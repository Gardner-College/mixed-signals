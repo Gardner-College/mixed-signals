{
 "cells": [
  {
   "cell_type": "markdown",
   "id": "79ac1b0e-5ab2-4041-baf0-ae33e2d3f20e",
   "metadata": {},
   "source": [
    "- **Name:**\n",
    "- **Term:**"
   ]
  },
  {
   "cell_type": "markdown",
   "id": "c9bec616",
   "metadata": {},
   "source": [
    "# Laboratory Experiment 006: Pulse-Width Modulation (PWM) and Phase-Locked Loops (PLLs)"
   ]
  },
  {
   "cell_type": "markdown",
   "id": "dfbe6fd7",
   "metadata": {},
   "source": [
    "## Introduction\n",
    "This notebook demonstrates PWM signal generation and Phase-Locked Loop (PLL) behavior using Python."
   ]
  },
  {
   "cell_type": "markdown",
   "id": "e5ca00e2",
   "metadata": {},
   "source": [
    "## Generating a PWM Signal\n",
    "A PWM signal is created by varying the duty cycle of a square wave."
   ]
  },
  {
   "cell_type": "code",
   "execution_count": null,
   "id": "488ad275-5ec4-4386-ac05-3a967c07811e",
   "metadata": {},
   "outputs": [],
   "source": [
    "import numpy as np\n",
    "import matplotlib.pyplot as plt\n",
    "import scipy.signal as signal\n",
    "\n",
    "# Create a time vector\n",
    "t = np.linspace(0, 1, 1000)\n",
    "\n",
    "# Generate a PWM signal\n",
    "freq = 5  # Hz\n",
    "duty_cycle = 50  # %\n",
    "pwm_signal = signal.square(2 * np.pi * freq * t, duty=duty_cycle / 100)\n",
    "\n",
    "# Plot PWM signal\n",
    "plt.figure(figsize=(10, 4))\n",
    "plt.plot(t, pwm_signal, label='PWM Signal')\n",
    "plt.ylim(-1.5, 1.5)\n",
    "plt.xlabel('Time (s)')\n",
    "plt.ylabel('Amplitude')\n",
    "plt.title('PWM Signal')\n",
    "plt.legend()\n",
    "plt.grid()\n",
    "plt.show()"
   ]
  },
  {
   "cell_type": "markdown",
   "id": "19747247",
   "metadata": {},
   "source": [
    "## Simulating a Phase-Locked Loop (PLL)\n",
    "A PLL attempts to synchronize the phase of an output signal to a reference signal."
   ]
  },
  {
   "cell_type": "code",
   "execution_count": null,
   "id": "a670a7c2-e900-4579-a853-33f3c15a2c82",
   "metadata": {},
   "outputs": [],
   "source": [
    "# Generate PLL demonstration\n",
    "# Reference signal\n",
    "ref_freq = 5  # Hz\n",
    "ref_signal = np.sin(2 * np.pi * ref_freq * t)\n",
    "\n",
    "# Simulated PLL output signal (phase-locked)\n",
    "pll_freq = 5  # Hz\n",
    "pll_signal = np.sin(2 * np.pi * pll_freq * t + np.pi / 4)  # Slight phase shift\n",
    "\n",
    "# Plot reference and PLL signals\n",
    "plt.figure(figsize=(10, 4))\n",
    "plt.plot(t, ref_signal, label='Reference Signal')\n",
    "plt.plot(t, pll_signal, label='PLL Output Signal', linestyle='dashed')\n",
    "plt.xlabel('Time (s)')\n",
    "plt.ylabel('Amplitude')\n",
    "plt.title('Phase-Locked Loop (PLL) Demonstration')\n",
    "plt.legend()\n",
    "plt.grid()\n",
    "plt.show()"
   ]
  },
  {
   "cell_type": "markdown",
   "id": "b7cb96e7",
   "metadata": {},
   "source": [
    "## Additional Example: PWM with Variable Duty Cycle\n",
    "This demonstrates a PWM signal where the duty cycle varies over time."
   ]
  },
  {
   "cell_type": "code",
   "execution_count": null,
   "id": "fc5f0d09",
   "metadata": {},
   "outputs": [],
   "source": [
    "# Additional Example: PWM with Variable Duty Cycle\n",
    "# Define varying duty cycle\n",
    "duty_cycles = np.linspace(10, 90, len(t))\n",
    "pwm_variable = signal.square(2 * np.pi * freq * t, duty=duty_cycles / 100)\n",
    "\n",
    "# Plot PWM with variable duty cycle\n",
    "plt.figure(figsize=(10, 4))\n",
    "plt.plot(t, pwm_variable, label='PWM with Variable Duty Cycle')\n",
    "plt.ylim(-1.5, 1.5)\n",
    "plt.xlabel('Time (s)')\n",
    "plt.ylabel('Amplitude')\n",
    "plt.title('PWM with Variable Duty Cycle')\n",
    "plt.legend()\n",
    "plt.grid()\n",
    "plt.show()"
   ]
  },
  {
   "cell_type": "markdown",
   "id": "dab4a07c-12b3-499e-8830-0040dbe62272",
   "metadata": {},
   "source": [
    "# Explanation:\n",
    "- The first plot shows a standard PWM signal with a fixed duty cycle.\n",
    "- The second plot demonstrates a Phase-Locked Loop (PLL) where the output signal locks onto the reference signal.\n",
    "- The third plot introduces a PWM signal with a variable duty cycle, which can be used for dynamic power control in applications like motor speed regulation or LED dimming."
   ]
  }
 ],
 "metadata": {
  "kernelspec": {
   "display_name": "Python 3 (ipykernel)",
   "language": "python",
   "name": "python3"
  },
  "language_info": {
   "codemirror_mode": {
    "name": "ipython",
    "version": 3
   },
   "file_extension": ".py",
   "mimetype": "text/x-python",
   "name": "python",
   "nbconvert_exporter": "python",
   "pygments_lexer": "ipython3",
   "version": "3.12.8"
  }
 },
 "nbformat": 4,
 "nbformat_minor": 5
}
