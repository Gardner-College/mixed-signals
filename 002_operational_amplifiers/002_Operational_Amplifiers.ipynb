{
 "cells": [
  {
   "cell_type": "markdown",
   "id": "5105434b-e474-4da3-aec2-abaf027ebf56",
   "metadata": {},
   "source": [
    "- **Name:**\n",
    "- **Term:**"
   ]
  },
  {
   "cell_type": "markdown",
   "id": "89ad100c",
   "metadata": {},
   "source": [
    "# Laboratory Experiment 002: Operational Amplifiers\n",
    "\n",
    "This Jupyter Notebook demonstrates different operational amplifier (Op-Amp) configurations with Python simulations.\n",
    "\n",
    "### Configurations Covered:\n",
    "1. Inverting Amplifier\n",
    "2. Non-Inverting Amplifier\n",
    "3. Voltage Follower (Buffer)\n",
    "4. Summing Amplifier\n",
    "5. Integrator\n",
    "6. Differentiator\n",
    "\n",
    "Each section contains code to simulate the respective amplifier behavior and plots the output waveform.\n"
   ]
  },
  {
   "cell_type": "code",
   "execution_count": null,
   "id": "5d93caec",
   "metadata": {},
   "outputs": [],
   "source": [
    "import numpy as np\n",
    "import matplotlib.pyplot as plt\n",
    "import scipy.signal as signal\n",
    "\n",
    "# Time vector for simulation\n",
    "t = np.linspace(0, 1, 1000)\n",
    "Vin = np.sin(2 * np.pi * 5 * t)  # Input signal (5 Hz sine wave)\n",
    "\n",
    "# Define common parameters\n",
    "Rf, Rin, R1, R2, C = 10e3, 1e3, 1e3, 1e3, 1e-6\n",
    "\n",
    "# Plot Input Signal\n",
    "plt.figure()\n",
    "plt.plot(t, Vin, label='Input Signal (5Hz Sine Wave)')\n",
    "plt.title('Input Signal')\n",
    "plt.xlabel('Time (s)')\n",
    "plt.ylabel('Amplitude')\n",
    "plt.grid('true')\n",
    "plt.legend()\n",
    "plt.show()"
   ]
  },
  {
   "cell_type": "markdown",
   "id": "e7b4e627-2333-4dd6-a94d-0621f628d6dd",
   "metadata": {},
   "source": [
    "# 1. Inverting Amplifier\n",
    "#### $V_o = - (R_f / R_i) * V_i$"
   ]
  },
  {
   "cell_type": "code",
   "execution_count": null,
   "id": "1cb06a81",
   "metadata": {},
   "outputs": [],
   "source": [
    "def inverting_amplifier(Vin, Rf, Rin):\n",
    "    Av = -Rf / Rin\n",
    "    return Av * Vin\n",
    "\n",
    "Vout_inv = inverting_amplifier(Vin, Rf, Rin)\n",
    "plt.figure()\n",
    "plt.plot(t, Vout_inv, label='Inverting')\n",
    "plt.title('Inverting Amplifier')\n",
    "plt.grid('true')\n",
    "plt.legend()\n",
    "plt.show()\n"
   ]
  },
  {
   "cell_type": "markdown",
   "id": "31c805ec-6735-4392-bf12-33940f2683fc",
   "metadata": {},
   "source": [
    "# 2. Non-Inverting Amplifier\n",
    "#### $V_o = (1 + R_f/R_1) * V_i$"
   ]
  },
  {
   "cell_type": "code",
   "execution_count": null,
   "id": "961b9b18",
   "metadata": {},
   "outputs": [],
   "source": [
    "def non_inverting_amplifier(Vin, Rf, R1):\n",
    "    Av = 1 + (Rf / R1)\n",
    "    return Av * Vin\n",
    "\n",
    "Vout_noninv = non_inverting_amplifier(Vin, Rf, R1)\n",
    "plt.figure()\n",
    "plt.plot(t, Vout_noninv, label='Non-Inverting')\n",
    "plt.title('Non-Inverting Amplifier')\n",
    "plt.grid('true')\n",
    "plt.legend()\n",
    "plt.show()\n"
   ]
  },
  {
   "cell_type": "markdown",
   "id": "02c92f64-e733-4bc6-9866-d4650b244265",
   "metadata": {},
   "source": [
    "# 3. Voltage Follower (Buffer)"
   ]
  },
  {
   "cell_type": "code",
   "execution_count": null,
   "id": "1969723a",
   "metadata": {},
   "outputs": [],
   "source": [
    "def voltage_follower(Vin):\n",
    "    return Vin\n",
    "\n",
    "Vout_follow = voltage_follower(Vin)\n",
    "plt.figure()\n",
    "plt.plot(t, Vout_follow, label='Voltage Follower')\n",
    "plt.title('Voltage Follower')\n",
    "plt.grid('true')\n",
    "plt.legend()\n",
    "plt.show()\n"
   ]
  },
  {
   "cell_type": "markdown",
   "id": "f312a531-ae0c-4e7f-ad8a-4eee242f3314",
   "metadata": {},
   "source": [
    "# 4. Summing Amplifier\n",
    "#### $Vout = - ((Rf/R1) * Vin1 + (Rf/R2) * Vin2)$"
   ]
  },
  {
   "cell_type": "code",
   "execution_count": null,
   "id": "0ef1e9da",
   "metadata": {},
   "outputs": [],
   "source": [
    "def summing_amplifier(Vin1, Vin2, Rf, R1, R2):\n",
    "    return -((Rf/R1) * Vin1 + (Rf/R2) * Vin2)\n",
    "\n",
    "Vout_sum = summing_amplifier(Vin, Vin / 2, Rf, R1, R2)\n",
    "plt.figure()\n",
    "plt.plot(t, Vout_sum, label='Summing Amplifier')\n",
    "plt.title('Summing Amplifier')\n",
    "plt.grid('true')\n",
    "plt.legend()\n",
    "plt.show()\n"
   ]
  },
  {
   "cell_type": "markdown",
   "id": "c515a5a6-cf44-4bd4-aa7a-c290b1047dd7",
   "metadata": {},
   "source": [
    "# 5. Integrator\n",
    "#### $Vout = - (1 / (R*C)) * integral(Vin)$"
   ]
  },
  {
   "cell_type": "code",
   "execution_count": null,
   "id": "434b4791",
   "metadata": {},
   "outputs": [],
   "source": [
    "def integrator(Vin, R, C, t):\n",
    "    return (-1 / (R * C)) * np.cumsum(Vin) * (t[1] - t[0])\n",
    "\n",
    "Vout_int = integrator(Vin, R1, C, t)\n",
    "plt.figure()\n",
    "plt.plot(t, Vout_int, label='Integrator')\n",
    "plt.title('Integrator')\n",
    "plt.grid('true')\n",
    "plt.legend()\n",
    "plt.show()\n"
   ]
  },
  {
   "cell_type": "markdown",
   "id": "561c811e-05e9-406e-9a51-ae20e1f6b741",
   "metadata": {},
   "source": [
    "# 6. Differentiator\n",
    "#### $Vout = - R*C * d(Vin)/dt$"
   ]
  },
  {
   "cell_type": "code",
   "execution_count": null,
   "id": "903035d2",
   "metadata": {},
   "outputs": [],
   "source": [
    "def differentiator(Vin, R, C, t):\n",
    "    return -R * C * np.gradient(Vin, t)\n",
    "\n",
    "Vout_diff = differentiator(Vin, R1, C, t)\n",
    "plt.figure()\n",
    "plt.plot(t, Vout_diff, label='Differentiator')\n",
    "plt.title('Differentiator')\n",
    "plt.grid('true')\n",
    "plt.legend()\n",
    "plt.show()\n"
   ]
  },
  {
   "cell_type": "markdown",
   "id": "78ce9035-3016-4b80-b78f-04f8dddfbe27",
   "metadata": {},
   "source": [
    "# 7. Active Low Pass Filter"
   ]
  },
  {
   "cell_type": "code",
   "execution_count": null,
   "id": "a7fbf5b5-e721-479c-b5a0-ca2927a799a8",
   "metadata": {},
   "outputs": [],
   "source": [
    "def low_pass_filter(Vin, R, C, t):\n",
    "    tau = R * C\n",
    "    return signal.lfilter([1], [tau, 1], Vin)\n",
    "\n",
    "Vout_lp = low_pass_filter(Vin, R1, C, t)\n",
    "plt.figure()\n",
    "plt.plot(t, Vout_lp, label='Low Pass Filter')\n",
    "plt.title('Active Low Pass Filter')\n",
    "plt.grid('true')\n",
    "plt.legend()\n",
    "plt.show()"
   ]
  },
  {
   "cell_type": "markdown",
   "id": "03c0aac7-fd7b-4be5-a1c2-be33c6bb44dc",
   "metadata": {},
   "source": [
    "# 8. Astable Multivibrator"
   ]
  },
  {
   "cell_type": "code",
   "execution_count": null,
   "id": "39a12d5a-1dc8-4524-b0ac-bb4c792a954d",
   "metadata": {},
   "outputs": [],
   "source": [
    "def astable_multivibrator(t, f=5, duty=0.5):\n",
    "    return signal.square(2 * np.pi * f * t, duty)\n",
    "\n",
    "Vout_astable = astable_multivibrator(t)\n",
    "plt.figure()\n",
    "plt.plot(t, Vout_astable, label='Astable Multivibrator')\n",
    "plt.title('Astable Multivibrator')\n",
    "plt.grid('true')\n",
    "plt.legend()\n",
    "plt.show()"
   ]
  },
  {
   "cell_type": "markdown",
   "id": "b55a6562-b545-4ed2-bcdc-505e9947ea33",
   "metadata": {},
   "source": [
    "# 9. Monostable Multivibrator"
   ]
  },
  {
   "cell_type": "code",
   "execution_count": null,
   "id": "143d5117-9ee5-4f9f-84bd-bf0713c075ea",
   "metadata": {},
   "outputs": [],
   "source": [
    "def monostable_multivibrator(t, trigger_time=0.2, pulse_duration=0.3):\n",
    "    Vout_mono = np.zeros_like(t)\n",
    "    Vout_mono[(t >= trigger_time) & (t <= (trigger_time + pulse_duration))] = 1\n",
    "    return Vout_mono\n",
    "\n",
    "Vout_monostable = monostable_multivibrator(t)\n",
    "plt.figure()\n",
    "plt.plot(t, Vout_monostable, label='Monostable Multivibrator')\n",
    "plt.title('Monostable Multivibrator')\n",
    "plt.grid('true')\n",
    "plt.legend()\n",
    "plt.show()"
   ]
  }
 ],
 "metadata": {
  "kernelspec": {
   "display_name": "Python 3 (ipykernel)",
   "language": "python",
   "name": "python3"
  },
  "language_info": {
   "codemirror_mode": {
    "name": "ipython",
    "version": 3
   },
   "file_extension": ".py",
   "mimetype": "text/x-python",
   "name": "python",
   "nbconvert_exporter": "python",
   "pygments_lexer": "ipython3",
   "version": "3.12.8"
  }
 },
 "nbformat": 4,
 "nbformat_minor": 5
}
