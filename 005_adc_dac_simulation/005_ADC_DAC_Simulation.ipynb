{
 "cells": [
  {
   "cell_type": "markdown",
   "id": "6e6f61f1-fb3b-4198-9e6e-922e0cbe5e04",
   "metadata": {},
   "source": [
    "- **Name:**\n",
    "- **Term:**"
   ]
  },
  {
   "cell_type": "markdown",
   "id": "3e01c5d6",
   "metadata": {},
   "source": [
    "# Laboratory Experiment 005: ADC and DAC Simulation\n",
    "\n",
    "### Introduction\n",
    "This notebook demonstrates the process of **Analog-to-Digital Conversion (ADC)** and **Digital-to-Analog Conversion (DAC)** using a sine wave as the input signal. The process includes:\n",
    "1. **Generating an analog signal** (sine wave)\n",
    "2. **Simulating ADC** - Sampling and Quantization\n",
    "3. **Simulating DAC** - Reconstruction using Zero-Order Hold (ZOH)\n",
    "4. **Visualizing the results**\n",
    "\n",
    "---"
   ]
  },
  {
   "cell_type": "code",
   "execution_count": null,
   "id": "e53d178e",
   "metadata": {},
   "outputs": [],
   "source": [
    "import numpy as np\n",
    "import matplotlib.pyplot as plt\n",
    "from scipy import signal\n",
    "\n",
    "# Generate a continuous analog signal (sine wave)\n",
    "sampling_rate = 1000  # Hz\n",
    "signal_frequency = 5  # Hz\n",
    "duration = 1  # second\n",
    "t = np.linspace(0, duration, sampling_rate * duration)\n",
    "analog_signal = np.sin(2 * np.pi * signal_frequency * t)\n",
    "\n",
    "# Plot Original Analog Signal\n",
    "plt.figure(figsize=(12, 3))\n",
    "plt.plot(t, analog_signal, label=\"Original Analog Signal\", linestyle='dashed', alpha=0.7)\n",
    "plt.title(\"Original Analog Signal\")\n",
    "plt.xlabel(\"Time (s)\")\n",
    "plt.ylabel(\"Amplitude\")\n",
    "plt.legend()\n",
    "plt.grid()\n",
    "plt.show()"
   ]
  },
  {
   "cell_type": "code",
   "execution_count": null,
   "id": "73300e6c-ad29-4dc4-8b8f-07f1a1c58499",
   "metadata": {},
   "outputs": [],
   "source": [
    "# Simulate ADC: Sampling and Quantization\n",
    "adc_sampling_rate = 50  # Sampling rate for ADC\n",
    "sample_times = np.linspace(0, duration, adc_sampling_rate * duration, endpoint=False)\n",
    "sampled_signal = np.sin(2 * np.pi * signal_frequency * sample_times)\n",
    "quantization_levels = 16\n",
    "quantized_signal = np.round((sampled_signal + 1) * (quantization_levels / 2)) / (quantization_levels / 2) - 1\n",
    "\n",
    "# Plot Sampled Signal\n",
    "plt.figure(figsize=(12, 3))\n",
    "plt.plot(t, analog_signal, linestyle='dashed', alpha=0.7, label=\"Original Analog Signal\")\n",
    "plt.scatter(sample_times, sampled_signal, color='red', label=\"Sampled Points\")\n",
    "plt.title(\"Sampled Signal\")\n",
    "plt.xlabel(\"Time (s)\")\n",
    "plt.ylabel(\"Amplitude\")\n",
    "plt.legend()\n",
    "plt.grid()\n",
    "plt.show()"
   ]
  },
  {
   "cell_type": "code",
   "execution_count": null,
   "id": "db116cac-cdb3-422a-81c2-c1badbcd079b",
   "metadata": {},
   "outputs": [],
   "source": [
    "# Simulate DAC: Reconstruction using Zero-Order Hold (ZOH)\n",
    "dac_reconstructed_signal = np.repeat(quantized_signal, int(sampling_rate / adc_sampling_rate))\n",
    "dac_time = np.linspace(0, duration, len(dac_reconstructed_signal))\n",
    "\n",
    "# Plot Reconstructed Signal (DAC Output)\n",
    "plt.figure(figsize=(12, 3))\n",
    "plt.plot(t, analog_signal, linestyle='dashed', alpha=0.7, label=\"Original Analog Signal\")\n",
    "plt.step(dac_time, dac_reconstructed_signal, label=\"Reconstructed Signal (DAC)\", where='post')\n",
    "plt.title(\"Reconstructed Signal (DAC Output)\")\n",
    "plt.xlabel(\"Time (s)\")\n",
    "plt.ylabel(\"Amplitude\")\n",
    "plt.legend()\n",
    "plt.grid()\n",
    "plt.show()"
   ]
  },
  {
   "cell_type": "code",
   "execution_count": null,
   "id": "47ec3134-9829-4184-a69b-715ff734e172",
   "metadata": {},
   "outputs": [],
   "source": [
    "# Plot Original, Sampled, and Reconstructed Signals\n",
    "plt.figure(figsize=(12, 6))\n",
    "plt.plot(t, analog_signal, label=\"Original Analog Signal\", linestyle='dashed', alpha=0.7)\n",
    "plt.scatter(sample_times, sampled_signal, color='red', label=\"Sampled Points\")\n",
    "plt.step(dac_time, dac_reconstructed_signal, label=\"Reconstructed Signal (DAC)\", where='post')\n",
    "plt.xlabel(\"Time (s)\")\n",
    "plt.ylabel(\"Amplitude\")\n",
    "plt.title(\"ADC and DAC Simulation\")\n",
    "plt.legend()\n",
    "plt.grid()\n",
    "plt.show()"
   ]
  },
  {
   "cell_type": "markdown",
   "id": "8a73bd93",
   "metadata": {},
   "source": [
    "### Explanation\n",
    "- **Analog Signal Generation**: A continuous sine wave is created to simulate an analog signal.\n",
    "- **ADC Process**:\n",
    "  - **Sampling**: The analog signal is sampled at discrete time intervals.\n",
    "  - **Quantization**: The sampled values are rounded to the nearest discrete levels based on the number of quantization levels.\n",
    "- **DAC Process**:\n",
    "  - **Reconstruction**: The quantized signal is reconstructed using Zero-Order Hold (ZOH), where each sampled value is held constant until the next sample.\n",
    "- **Visualization**:\n",
    "  - The original analog signal is plotted as a dashed line.\n",
    "  - The sampled points are marked as red dots.\n",
    "  - The reconstructed signal is displayed as a step function showing the DAC output.\n",
    "\n",
    "This simulation provides insight into the effects of sampling and quantization in ADC and how DAC reconstructs the original signal from the discrete data.\n",
    "\n",
    "---\n",
    "\n",
    "### Conclusion\n",
    "- Higher **sampling rates** result in better representation of the original signal.\n",
    "- More **quantization levels** lead to reduced quantization error and a more accurate digital representation.\n",
    "- **Zero-Order Hold (ZOH)** reconstruction provides a piecewise constant approximation of the analog signal.\n",
    "- Understanding ADC and DAC processes is essential in applications like audio processing, signal transmission, and digital control systems.\n"
   ]
  }
 ],
 "metadata": {
  "kernelspec": {
   "display_name": "Python 3 (ipykernel)",
   "language": "python",
   "name": "python3"
  },
  "language_info": {
   "codemirror_mode": {
    "name": "ipython",
    "version": 3
   },
   "file_extension": ".py",
   "mimetype": "text/x-python",
   "name": "python",
   "nbconvert_exporter": "python",
   "pygments_lexer": "ipython3",
   "version": "3.12.8"
  }
 },
 "nbformat": 4,
 "nbformat_minor": 5
}
