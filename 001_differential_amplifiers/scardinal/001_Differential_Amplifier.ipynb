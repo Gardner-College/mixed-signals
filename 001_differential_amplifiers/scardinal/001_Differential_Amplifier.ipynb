{
 "cells": [
  {
   "cell_type": "markdown",
   "id": "15cfd316",
   "metadata": {},
   "source": [
    "# Laboratory Experiment 001: Differential Amplifier\n",
    "This notebook simulates the structure, operation, and applications of a differential amplifier."
   ]
  },
  {
   "cell_type": "markdown",
   "id": "0ce1460e-767a-4bce-ac35-1229233eca3d",
   "metadata": {},
   "source": [
    "- **Name:**\n",
    "- **Term:**"
   ]
  },
  {
   "cell_type": "markdown",
   "id": "604fdf58-7a36-44b0-b8ea-c1c7dabd6f32",
   "metadata": {},
   "source": [
    "### [Optional] Install the Python Packages:"
   ]
  },
  {
   "cell_type": "code",
   "execution_count": null,
   "id": "c23f774f-d1b8-4764-acf8-a79c1ee64c85",
   "metadata": {},
   "outputs": [],
   "source": [
    "!pip install numpy"
   ]
  },
  {
   "cell_type": "code",
   "execution_count": null,
   "id": "a3d67b80-431e-4c3e-9d3d-12ceeae32f1f",
   "metadata": {},
   "outputs": [],
   "source": [
    "!pip install matplotlib"
   ]
  },
  {
   "cell_type": "code",
   "execution_count": null,
   "id": "8a6fb8e4-e187-4814-a5c8-7dbf636a7bff",
   "metadata": {},
   "outputs": [],
   "source": [
    "!pip install scipy"
   ]
  },
  {
   "cell_type": "markdown",
   "id": "b83d693f-2cd3-483f-bd84-fa52f7b70654",
   "metadata": {},
   "source": [
    "## Import the Python Packages:"
   ]
  },
  {
   "cell_type": "code",
   "execution_count": null,
   "id": "c4b75ac0",
   "metadata": {},
   "outputs": [],
   "source": [
    "import numpy as np\n",
    "import matplotlib.pyplot as plt\n",
    "from scipy.signal import lti, step"
   ]
  },
  {
   "cell_type": "markdown",
   "id": "7ae3f10b",
   "metadata": {},
   "source": [
    "## Define Differential Amplifier Parameters\n",
    "Parameters:\n",
    "- **$A_d$**: Differential mode gain (Amplifies the difference between inputs)\n",
    "- **$A_c$**: Common mode gain (Ideally should be minimized for noise rejection)\n",
    "- **CMRR**: Common-mode rejection ratio, defined as the ratio of $A_d$ to $A_c$"
   ]
  },
  {
   "cell_type": "code",
   "execution_count": null,
   "id": "887810f3",
   "metadata": {},
   "outputs": [],
   "source": [
    "A_d = 10  # Differential mode gain\n",
    "A_c = 0.1  # Common mode gain\n",
    "CMRR = A_d / A_c  # Common-mode rejection ratio\n",
    "\n",
    "print(f'Common-Mode Rejection Ratio (CMRR): {CMRR:.2f}')"
   ]
  },
  {
   "cell_type": "markdown",
   "id": "75da9b48",
   "metadata": {},
   "source": [
    "## Generate Input Signals\n",
    "- **$V_1$**: Sine wave input representing one signal source\n",
    "- **$V_2$**: Sine wave with half the amplitude, representing the second input\n",
    "- **T**: Time vector for plotting the signals"
   ]
  },
  {
   "cell_type": "code",
   "execution_count": null,
   "id": "8d43b85e",
   "metadata": {},
   "outputs": [],
   "source": [
    "T = np.linspace(0, 1, 1000)  # Time vector\n",
    "V1 = np.sin(2 * np.pi * 10 * T)  # Input signal 1\n",
    "V2 = 0.5 * np.sin(2 * np.pi * 10 * T)  # Input signal 2 (different amplitude)\n",
    "\n",
    "# Plot input signals\n",
    "plt.figure(figsize=(10, 8))\n",
    "plt.subplot(3, 1, 1)\n",
    "plt.plot(T, V1, label='V1 (Input 1)')\n",
    "plt.plot(T, V2, label='V2 (Input 2)')\n",
    "plt.title('Input Signals')\n",
    "plt.xlabel('Time (s)')\n",
    "plt.ylabel('Amplitude')\n",
    "plt.legend()\n",
    "plt.grid()\n",
    "\n",
    "plt.tight_layout()\n",
    "plt.show()"
   ]
  },
  {
   "cell_type": "markdown",
   "id": "d7384a5f",
   "metadata": {},
   "source": [
    "## Compute Differential and Common-Mode Signals\n",
    "- **V_diff**: Difference between V1 and V2 (true signal to be amplified)"
   ]
  },
  {
   "cell_type": "code",
   "execution_count": null,
   "id": "0ec23cfc",
   "metadata": {},
   "outputs": [],
   "source": [
    "V_diff = V1 - V2\n",
    "\n",
    "# Plot differential input voltage\n",
    "plt.figure(figsize=(10, 8))\n",
    "plt.subplot(4, 1, 1)\n",
    "plt.plot(T, V_diff, label='Differential Input', color='b')\n",
    "plt.title('Differential Mode Input')\n",
    "plt.xlabel('Time (s)')\n",
    "plt.ylabel('Amplitude')\n",
    "plt.legend()\n",
    "plt.grid()\n",
    "\n",
    "plt.tight_layout()\n",
    "plt.show()"
   ]
  },
  {
   "cell_type": "markdown",
   "id": "e3fcc43d-dfce-4693-9603-7a875c7720fd",
   "metadata": {},
   "source": [
    "- **V_common**: Average of V1 and V2 (undesired noise component)"
   ]
  },
  {
   "cell_type": "code",
   "execution_count": null,
   "id": "fb7bc814-72ae-4f38-a84e-d8b31f3e2c9f",
   "metadata": {},
   "outputs": [],
   "source": [
    "V_common = (V1 + V2) / 2\n",
    "\n",
    "# Plot average common voltage\n",
    "plt.figure(figsize=(10, 8))\n",
    "plt.subplot(4, 1, 2)\n",
    "plt.plot(T, V_common, label='Noise', color='r')\n",
    "plt.title('Common Input')\n",
    "plt.xlabel('Time (s)')\n",
    "plt.ylabel('Amplitude')\n",
    "plt.legend()\n",
    "plt.grid()\n",
    "\n",
    "plt.tight_layout()\n",
    "plt.show()"
   ]
  },
  {
   "cell_type": "markdown",
   "id": "1acaec1e",
   "metadata": {},
   "source": [
    "## Compute Amplifier Output\n",
    "- **V_out_diff**: Amplified differential mode output"
   ]
  },
  {
   "cell_type": "code",
   "execution_count": null,
   "id": "62dd453e",
   "metadata": {},
   "outputs": [],
   "source": [
    "V_out_diff = A_d * V_diff\n",
    "\n",
    "# Plot differential mode output\n",
    "plt.figure(figsize=(10, 8))\n",
    "plt.subplot(3, 1, 2)\n",
    "plt.plot(T, V_out_diff, label='Differential Output', color='g')\n",
    "plt.title('Differential Mode Output')\n",
    "plt.xlabel('Time (s)')\n",
    "plt.ylabel('Amplitude')\n",
    "plt.legend()\n",
    "plt.grid()\n",
    "\n",
    "plt.tight_layout()\n",
    "plt.show()"
   ]
  },
  {
   "cell_type": "markdown",
   "id": "51380950-1f92-4f7d-9ab5-129e70026651",
   "metadata": {},
   "source": [
    "- **V_out_common**: Common-mode output contribution"
   ]
  },
  {
   "cell_type": "code",
   "execution_count": null,
   "id": "c6194f6f-4efd-43d9-a36b-586f9a1c9e9c",
   "metadata": {},
   "outputs": [],
   "source": [
    "V_out_common = A_c * V_common\n",
    "\n",
    "# Plot differential mode output\n",
    "plt.figure(figsize=(10, 8))\n",
    "plt.subplot(4, 1, 3)\n",
    "plt.plot(T, V_out_common, label='Common Mode Output', color='r')\n",
    "plt.title('Common Mode Output')\n",
    "plt.xlabel('Time (s)')\n",
    "plt.ylabel('Amplitude')\n",
    "plt.legend()\n",
    "plt.grid()\n",
    "\n",
    "plt.tight_layout()\n",
    "plt.show()"
   ]
  },
  {
   "cell_type": "markdown",
   "id": "bfe92862-9ba5-48af-b7a4-41e434ba8949",
   "metadata": {},
   "source": [
    "- **V_out_total**: Final amplifier output including both modes"
   ]
  },
  {
   "cell_type": "code",
   "execution_count": null,
   "id": "651010ac-65ce-4edd-b123-e14ad7837b1e",
   "metadata": {},
   "outputs": [],
   "source": [
    "V_out_total = V_out_diff + V_out_common\n",
    "\n",
    "# Plot total output\n",
    "plt.figure(figsize=(10, 8))\n",
    "plt.subplot(3, 1, 3)\n",
    "plt.plot(T, V_out_total, label='Total Output (Including Common Mode)', color='y')\n",
    "plt.title('Total Output')\n",
    "plt.xlabel('Time (s)')\n",
    "plt.ylabel('Amplitude')\n",
    "plt.legend()\n",
    "plt.grid()\n",
    "\n",
    "plt.tight_layout()\n",
    "plt.show()"
   ]
  }
 ],
 "metadata": {
  "kernelspec": {
   "display_name": "Python 3 (ipykernel)",
   "language": "python",
   "name": "python3"
  },
  "language_info": {
   "codemirror_mode": {
    "name": "ipython",
    "version": 3
   },
   "file_extension": ".py",
   "mimetype": "text/x-python",
   "name": "python",
   "nbconvert_exporter": "python",
   "pygments_lexer": "ipython3",
   "version": "3.12.8"
  }
 },
 "nbformat": 4,
 "nbformat_minor": 5
}
