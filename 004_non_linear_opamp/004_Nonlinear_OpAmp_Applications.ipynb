{
 "cells": [
  {
   "cell_type": "markdown",
   "id": "11f9fbbb-2ebe-458d-851a-5c3148c025a9",
   "metadata": {},
   "source": [
    "- **Name:**\n",
    "- **Term:**"
   ]
  },
  {
   "cell_type": "markdown",
   "id": "d41b12d2",
   "metadata": {},
   "source": [
    "# Laboratory Experiment 004: Non-Linear Applications of Op-Amps\n",
    "This notebook demonstrates the working of comparators, oscillators, and active filters using Python simulations."
   ]
  },
  {
   "cell_type": "code",
   "execution_count": null,
   "id": "e6c4a9cb",
   "metadata": {},
   "outputs": [],
   "source": [
    "import numpy as np\n",
    "import matplotlib.pyplot as plt\n",
    "from scipy.signal import butter, lfilter, square"
   ]
  },
  {
   "cell_type": "markdown",
   "id": "14588fd0",
   "metadata": {},
   "source": [
    "## Comparator Simulation\n",
    "A comparator is an op-amp circuit that compares two voltages and switches the output accordingly."
   ]
  },
  {
   "cell_type": "code",
   "execution_count": null,
   "id": "26120caa",
   "metadata": {},
   "outputs": [],
   "source": [
    "### Comparator Simulation\n",
    "import numpy as np\n",
    "import matplotlib.pyplot as plt\n",
    "\n",
    "def comparator(input_signal, threshold):\n",
    "    \"\"\" Simulates a comparator that outputs high or low based on the threshold \"\"\"\n",
    "    return np.where(input_signal > threshold, 1, -1)\n",
    "\n",
    "# Define parameters\n",
    "time = np.linspace(0, 1, 1000)  # Time vector\n",
    "input_signal = np.sin(2 * np.pi * 5 * time)  # Input signal\n",
    "threshold = 0\n",
    "\n",
    "# Compute comparator output\n",
    "comparator_output = comparator(input_signal, threshold)\n",
    "\n",
    "# Visualization\n",
    "plt.figure(figsize=(10, 4))\n",
    "plt.plot(time, input_signal, label='Input Signal')\n",
    "plt.plot(time, comparator_output, label='Comparator Output', linestyle='dashed', color='r')\n",
    "plt.xlabel('Time (s)')\n",
    "plt.ylabel('Voltage (V)')\n",
    "plt.title('Comparator Simulation (Time Domain)')\n",
    "plt.grid()\n",
    "plt.legend()\n",
    "plt.show()\n"
   ]
  },
  {
   "cell_type": "markdown",
   "id": "ac38bd59",
   "metadata": {},
   "source": [
    "## Wien Bridge Oscillator Simulation\n",
    "A Wien Bridge Oscillator generates sine waves without requiring an external input signal."
   ]
  },
  {
   "cell_type": "code",
   "execution_count": null,
   "id": "106eaf7c",
   "metadata": {},
   "outputs": [],
   "source": [
    "### Wien Bridge Oscillator Simulation\n",
    "from scipy.integrate import solve_ivp\n",
    "\n",
    "def wien_bridge_oscillator(t, y, R, C, A):\n",
    "    \"\"\" Simulates a Wien Bridge Oscillator \"\"\"\n",
    "    Vout, dVout_dt = y\n",
    "    d2Vout_dt2 = (A - 1) * dVout_dt - Vout / (R * C)\n",
    "    return [dVout_dt, d2Vout_dt2]\n",
    "\n",
    "# Define parameters for Wien Bridge Oscillator\n",
    "R, C, A = 10e3, 1e-6, 3  # Resistance, Capacitance, Amplification factor\n",
    "\n",
    "# Solve the differential equation\n",
    "solution = solve_ivp(wien_bridge_oscillator, [0, 1], [0.01, 0], args=(R, C, A), t_eval=time)\n",
    "\n",
    "# Extract the output signal\n",
    "oscillator_output = solution.y[0]\n",
    "\n",
    "# Visualization\n",
    "plt.figure(figsize=(10, 4))\n",
    "plt.plot(time, oscillator_output, label='Wien Bridge Oscillator Output', color='g')\n",
    "plt.xlabel('Time (s)')\n",
    "plt.ylabel('Voltage (V)')\n",
    "plt.title('Wien Bridge Oscillator Simulation (Time Domain)')\n",
    "plt.grid()\n",
    "plt.legend()\n",
    "plt.show()\n"
   ]
  },
  {
   "cell_type": "markdown",
   "id": "4393a5da",
   "metadata": {},
   "source": [
    "## Filter Implementations\n",
    "Functions to implement low-pass, high-pass, band-pass, and band-stop filters."
   ]
  },
  {
   "cell_type": "code",
   "execution_count": null,
   "id": "bcd90733",
   "metadata": {},
   "outputs": [],
   "source": [
    "import numpy as np\n",
    "import matplotlib.pyplot as plt\n",
    "from scipy.signal import butter, freqz\n",
    "\n",
    "def butter_filter_freq_response(cutoff, fs, filter_type, order=2):\n",
    "    \"\"\" Computes and plots the frequency response of a Butterworth filter \"\"\"\n",
    "    nyq = 0.5 * fs\n",
    "    normal_cutoff = np.array(cutoff) / nyq\n",
    "    b, a = butter(order, normal_cutoff, btype=filter_type, analog=False)\n",
    "    \n",
    "    # Compute frequency response\n",
    "    w, h = freqz(b, a, worN=1024)\n",
    "    freq = w * fs / (2 * np.pi)  # Convert to Hz\n",
    "\n",
    "    return freq, abs(h)  # Magnitude response\n"
   ]
  },
  {
   "cell_type": "markdown",
   "id": "294bb9d2",
   "metadata": {},
   "source": [
    "## Visualization\n",
    "The following plots show the outputs of the comparator, oscillator, and various filters."
   ]
  },
  {
   "cell_type": "code",
   "execution_count": null,
   "id": "5e024fd9",
   "metadata": {},
   "outputs": [],
   "source": [
    "# Ensure frequency responses are computed before plotting\n",
    "fs = 1000  # Sampling frequency\n",
    "\n",
    "low_pass_freq, low_pass_response = butter_filter_freq_response(10, fs, 'low')\n",
    "high_pass_freq, high_pass_response = butter_filter_freq_response(10, fs, 'high')\n",
    "band_pass_freq, band_pass_response = butter_filter_freq_response([10, 50], fs, 'bandpass')\n",
    "band_stop_freq, band_stop_response = butter_filter_freq_response([10, 50], fs, 'bandstop')\n",
    "\n",
    "plt.figure(figsize=(12, 8))\n",
    "\n",
    "plt.subplot(2, 2, 1)\n",
    "plt.plot(low_pass_freq, low_pass_response, label='Low-Pass Filter')\n",
    "plt.xlabel('Frequency (Hz)')\n",
    "plt.ylabel('Magnitude')\n",
    "plt.title('Low-Pass Filter Response')\n",
    "plt.grid()\n",
    "plt.legend()\n",
    "\n",
    "plt.subplot(2, 2, 2)\n",
    "plt.plot(high_pass_freq, high_pass_response, label='High-Pass Filter', color='r')\n",
    "plt.xlabel('Frequency (Hz)')\n",
    "plt.ylabel('Magnitude')\n",
    "plt.title('High-Pass Filter Response')\n",
    "plt.grid()\n",
    "plt.legend()\n",
    "\n",
    "plt.subplot(2, 2, 3)\n",
    "plt.plot(band_pass_freq, band_pass_response, label='Band-Pass Filter', color='g')\n",
    "plt.xlabel('Frequency (Hz)')\n",
    "plt.ylabel('Magnitude')\n",
    "plt.title('Band-Pass Filter Response')\n",
    "plt.grid()\n",
    "plt.legend()\n",
    "\n",
    "plt.subplot(2, 2, 4)\n",
    "plt.plot(band_stop_freq, band_stop_response, label='Band-Stop Filter', color='purple')\n",
    "plt.xlabel('Frequency (Hz)')\n",
    "plt.ylabel('Magnitude')\n",
    "plt.title('Band-Stop Filter Response')\n",
    "plt.grid()\n",
    "plt.legend()\n",
    "\n",
    "plt.tight_layout()\n",
    "plt.show()\n"
   ]
  }
 ],
 "metadata": {
  "kernelspec": {
   "display_name": "Python 3 (ipykernel)",
   "language": "python",
   "name": "python3"
  },
  "language_info": {
   "codemirror_mode": {
    "name": "ipython",
    "version": 3
   },
   "file_extension": ".py",
   "mimetype": "text/x-python",
   "name": "python",
   "nbconvert_exporter": "python",
   "pygments_lexer": "ipython3",
   "version": "3.12.8"
  }
 },
 "nbformat": 4,
 "nbformat_minor": 5
}
