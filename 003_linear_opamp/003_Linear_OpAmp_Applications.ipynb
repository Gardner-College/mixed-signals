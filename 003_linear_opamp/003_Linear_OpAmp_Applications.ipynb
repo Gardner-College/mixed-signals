{
 "cells": [
  {
   "cell_type": "markdown",
   "id": "a3b28422-3aef-4858-9b67-2d912b95c70e",
   "metadata": {},
   "source": [
    "- **Name:**\n",
    "- **Term:**"
   ]
  },
  {
   "cell_type": "markdown",
   "id": "56232bb8",
   "metadata": {},
   "source": [
    "# Laboratory Experiment 003: Linear Applications of Op-Amps\n",
    "This notebook demonstrates the working of summing amplifiers, integrators, and differentiators using Python simulations."
   ]
  },
  {
   "cell_type": "code",
   "execution_count": null,
   "id": "e1b63de0",
   "metadata": {},
   "outputs": [],
   "source": [
    "import numpy as np\n",
    "import matplotlib.pyplot as plt\n",
    "from scipy.integrate import cumulative_trapezoid\n",
    "from scipy.signal import lfilter"
   ]
  },
  {
   "cell_type": "markdown",
   "id": "d8abe7b9",
   "metadata": {},
   "source": [
    "## Summing Amplifier Simulation\n",
    "A summing amplifier produces an output equal to the weighted sum of multiple input signals. This is commonly used in audio mixers, DACs, and signal processing."
   ]
  },
  {
   "cell_type": "code",
   "execution_count": null,
   "id": "7b0e4b5d",
   "metadata": {},
   "outputs": [],
   "source": [
    "def summing_amplifier(v1, v2, r1, r2, rf):\n",
    "    \"\"\" Implements a summing amplifier using OpAmps \"\"\"\n",
    "    return -(rf / r1) * np.array(v1) - (rf / r2) * np.array(v2)  # Ensure array conversion\n"
   ]
  },
  {
   "cell_type": "markdown",
   "id": "7dc0373d",
   "metadata": {},
   "source": [
    "## Integrator Simulation\n",
    "An integrator circuit produces an output proportional to the integral of the input signal, useful for waveform generation and signal processing."
   ]
  },
  {
   "cell_type": "code",
   "execution_count": null,
   "id": "a53be8a2",
   "metadata": {},
   "outputs": [],
   "source": [
    "def integrator(input_signal, time, r, c):\n",
    "    \"\"\" Implements an integrator circuit \"\"\"\n",
    "    return -cumulative_trapezoid(input_signal, time, initial=0) / (r * c)  # More accurate integration\n"
   ]
  },
  {
   "cell_type": "markdown",
   "id": "a36ca76e",
   "metadata": {},
   "source": [
    "## Differentiator Simulation\n",
    "A differentiator circuit produces an output proportional to the rate of change of the input signal, used in edge detection and high-frequency signal processing."
   ]
  },
  {
   "cell_type": "code",
   "execution_count": null,
   "id": "effa980e",
   "metadata": {},
   "outputs": [],
   "source": [
    "def differentiator(input_signal, time, r, c):\n",
    "    \"\"\" Implements a differentiator circuit with robust zero-division protection \"\"\"\n",
    "    \n",
    "    # Ensure time values are unique and strictly increasing\n",
    "    time, unique_indices = np.unique(time, return_index=True)\n",
    "    input_signal = input_signal[unique_indices]  # Keep signal consistent with unique time values\n",
    "    \n",
    "    # Compute time differences\n",
    "    dt = np.diff(time)\n",
    "    \n",
    "    # Prevent division by zero (replace very small values with a small epsilon)\n",
    "    dt[dt < 1e-9] = 1e-9\n",
    "    \n",
    "    # Compute derivative manually using np.diff()\n",
    "    diff_signal = np.diff(input_signal) / dt  # First derivative\n",
    "    \n",
    "    # Maintain original signal length (pad with first value to match array size)\n",
    "    diff_signal = np.insert(diff_signal, 0, diff_signal[0])\n",
    "    \n",
    "    return -r * c * diff_signal  # Apply differentiator scaling\n"
   ]
  },
  {
   "cell_type": "code",
   "execution_count": null,
   "id": "90ceb5fd",
   "metadata": {},
   "outputs": [],
   "source": [
    "# Define parameters\n",
    "time = np.linspace(0, 1, 1000)\n",
    "input_signal = np.sin(2 * np.pi * 5 * time)\n",
    "r1, r2, rf, r, c = 10e3, 10e3, 20e3, 10e3, 1e-6\n",
    "\n",
    "# Compute outputs\n",
    "summing_output = summing_amplifier(input_signal, input_signal/2, r1, r2, rf)\n",
    "integrator_output = integrator(input_signal, time, r, c)\n",
    "differentiator_output = differentiator(input_signal, time, r, c)\n"
   ]
  },
  {
   "cell_type": "markdown",
   "id": "00b9280d",
   "metadata": {},
   "source": [
    "## Visualization\n",
    "The following plots show the outputs of the summing amplifier, integrator, and differentiator."
   ]
  },
  {
   "cell_type": "code",
   "execution_count": null,
   "id": "c5192bcc",
   "metadata": {},
   "outputs": [],
   "source": [
    "plt.figure(figsize=(12, 8))\n",
    "\n",
    "plt.subplot(3, 1, 1)\n",
    "plt.plot(time, summing_output, label='Summing Amplifier Output')\n",
    "plt.legend()\n",
    "plt.grid()\n",
    "\n",
    "plt.subplot(3, 1, 2)\n",
    "plt.plot(time, integrator_output, label='Integrator Output')\n",
    "plt.legend()\n",
    "plt.grid()\n",
    "\n",
    "plt.subplot(3, 1, 3)\n",
    "plt.plot(time, differentiator_output, label='Differentiator Output')\n",
    "plt.legend()\n",
    "plt.grid()\n",
    "\n",
    "plt.xlabel('Time (s)')\n",
    "plt.tight_layout()\n",
    "plt.show()"
   ]
  }
 ],
 "metadata": {
  "kernelspec": {
   "display_name": "Python 3 (ipykernel)",
   "language": "python",
   "name": "python3"
  },
  "language_info": {
   "codemirror_mode": {
    "name": "ipython",
    "version": 3
   },
   "file_extension": ".py",
   "mimetype": "text/x-python",
   "name": "python",
   "nbconvert_exporter": "python",
   "pygments_lexer": "ipython3",
   "version": "3.12.8"
  }
 },
 "nbformat": 4,
 "nbformat_minor": 5
}
